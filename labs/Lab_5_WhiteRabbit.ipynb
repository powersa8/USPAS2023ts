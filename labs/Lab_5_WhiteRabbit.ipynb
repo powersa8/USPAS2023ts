{
 "cells": [
  {
   "cell_type": "markdown",
   "id": "ff3bf14b",
   "metadata": {},
   "source": [
    "# White Rabbit"
   ]
  },
  {
   "cell_type": "markdown",
   "id": "74f0a40b",
   "metadata": {},
   "source": [
    "## 1.  Devices\n",
    "- WRS-3/18 18 Port White Rabbit Switch\n",
    "- CUTEWRDP board x2 [1]\n",
    "- Optical fiber cables\n",
    "- Node side SFP Transceiver AXCEN AXGE-1254-0531 x2\n",
    "- Switch side SFP Transceiver AXCEN AXGE-3454-0531 x2\n",
    "- Xilinx USB-JTAG HW-USB-II\n",
    "- PC (USPAS1)"
   ]
  },
  {
   "cell_type": "markdown",
   "id": "75c1070d",
   "metadata": {},
   "source": [
    "## 2. Firmware and software\n",
    "The fpga firmware code is available on the PC (USPAS1) \n",
    "\n",
    "*/home/uspas1/USPAS2023/WhiteRabbit/cutewr_dp.tar.gz*"
   ]
  },
  {
   "attachments": {},
   "cell_type": "markdown",
   "id": "2e6e47c4",
   "metadata": {},
   "source": [
    "## 3. Instructions\n",
    "**a. Hardware setup**\n",
    "\n",
    "Assemble the experiment as shown in Figure 1\n",
    "\n",
    "![WR_1.png](attachment:WR_1.png)\n",
    "\n",
    "Fig. 1 White rabbit lab hardware setup\n",
    "\n",
    "**b. Firmware setup**\n",
    "\n",
    "    i. We have made an empty directory for each group. Go to your group directory by:\n",
    "    \n",
    "        cd\n",
    "        cd USPAS2023/WhiteRabbit/Group?\n",
    "    \n",
    "    ii. Extract the source code.\n",
    "    \n",
    "        tar -xzvf ../cutewr_dp.tar.gz\n",
    "        cd cutewr_dp\n",
    "\n",
    "        There is a document at doc/README.md explaining the code.\n",
    "    \n",
    "    iii. Start synthesizing the whole project.\n",
    "    \n",
    "        make; make wrpc; source path_set.sh; make wrpc_sw; make wrpc_sw_update\n",
    "\n",
    "        While waiting for the computer to synthesize the bitfile, load the pre-synthesized bit file (~/USPAS2023/WhiteRabbit/cutewr_dp.bit) to test the hardware.\n",
    "    \n",
    "    iv. Talk with the CUTEWRDP board through the UART-to-USB, ’screen’ can be used (Baud Rate is 115200). \n",
    "    \n",
    "    Commands in Terminal:\n",
    "    \n",
    "        ls /dev\n",
    "        screen /dev/ttyUSB? 115200    # for the 1st board\n",
    "        screen /dev/ttyUSB? 115200    # for the 2nd board\n",
    "    \n",
    "    v. Connect USB JTAG cable to CUTEWRDP connector J2 (schematic is at ~/USPAS2023/WhiteRabbit/cutewrdp.pdf). Download the bit file to FPGA Commands in Terminal:\n",
    "    \n",
    "        xc3sprog -c xpc ˜/USPAS2023/WhiteRabbit/cutewr_dp.bit\n",
    "    \n",
    "    vi. Unplug USB JTAG cable for the first node, and plug the USB JTAG cable for the 2nd node.\n",
    "    \n",
    "        xc3sprog -c xpc ˜/USPAS2023/WhiteRabbit/cutewr_dp.bit\n",
    "    \n",
    "    vii. The two CUTEWRDP boards will be synchronized automatically. Then observe waveforms of Switch PPS and CUTEWRDP out signals on the oscilloscope."
   ]
  },
  {
   "cell_type": "code",
   "execution_count": null,
   "id": "73d35613",
   "metadata": {},
   "outputs": [],
   "source": []
  },
  {
   "cell_type": "markdown",
   "id": "f1fd2f61",
   "metadata": {},
   "source": [
    "    viii. Try your synthesized bit file (~/USPAS2023/WhiteRabbit/Group?/cutewr_dp/syn/cutewr_dp_demo/cutewr_dp.bit) on the hardware."
   ]
  },
  {
   "cell_type": "code",
   "execution_count": null,
   "id": "94b2bd9c",
   "metadata": {},
   "outputs": [],
   "source": []
  },
  {
   "cell_type": "markdown",
   "id": "7366aadb",
   "metadata": {},
   "source": [
    "**c. Software setup**\n",
    "\n",
    "Please read the ’White Rabbit PTP Core User Manual’. You could run the WR PTP CORE and try some WRPC shell commands [[2]](https://ohwr.org/project/wr-cores/wikis/Wrpc-release-v42)."
   ]
  },
  {
   "cell_type": "code",
   "execution_count": null,
   "id": "71c03b54",
   "metadata": {},
   "outputs": [],
   "source": []
  },
  {
   "cell_type": "markdown",
   "id": "f122d6ad",
   "metadata": {},
   "source": [
    "## 4. Tasks\n",
    "\n",
    "**a. Record the waveform of Switch PPS.**"
   ]
  },
  {
   "cell_type": "code",
   "execution_count": null,
   "id": "a75861e2",
   "metadata": {},
   "outputs": [],
   "source": []
  },
  {
   "cell_type": "markdown",
   "id": "9506fd2f",
   "metadata": {},
   "source": [
    "**b. Record the two aligned waveforms of CUTEWRDP outgoing signals.**"
   ]
  },
  {
   "cell_type": "code",
   "execution_count": null,
   "id": "51c8f6dd",
   "metadata": {},
   "outputs": [],
   "source": []
  },
  {
   "cell_type": "markdown",
   "id": "869d7d7d",
   "metadata": {},
   "source": [
    "**c. Measure the jitter of two CUTEWRDP outgoing signals.**"
   ]
  },
  {
   "cell_type": "code",
   "execution_count": null,
   "id": "77170f57",
   "metadata": {},
   "outputs": [],
   "source": []
  },
  {
   "cell_type": "markdown",
   "id": "4fdd51d5",
   "metadata": {},
   "source": [
    "## 5. References\n",
    "\n",
    "[[1]](https://ohwr.org/project/cute-wr-dp/wikis/home) Qiang Du. Compact universal timing endpoint based on white rabbit.\n",
    "\n",
    "[[2]](https://ohwr.org/project/wr-cores/wikis/Wrpc-release-v42) Grzegorz Daniluk (CERN BE-CO-HT). White rabbit ptp core users manual.\n",
    "\n",
    "\n"
   ]
  }
 ],
 "metadata": {
  "kernelspec": {
   "display_name": "Python 3 (ipykernel)",
   "language": "python",
   "name": "python3"
  },
  "language_info": {
   "codemirror_mode": {
    "name": "ipython",
    "version": 3
   },
   "file_extension": ".py",
   "mimetype": "text/x-python",
   "name": "python",
   "nbconvert_exporter": "python",
   "pygments_lexer": "ipython3",
   "version": "3.10.6"
  }
 },
 "nbformat": 4,
 "nbformat_minor": 5
}
